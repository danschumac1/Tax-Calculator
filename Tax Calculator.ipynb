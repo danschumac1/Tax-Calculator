{
 "cells": [
  {
   "cell_type": "markdown",
   "id": "488eb4c9",
   "metadata": {},
   "source": [
    "### Tax Calculator\n",
    "Asks the user to enter a cost and either a country or state tax. It then returns the tax plus the total cost with tax."
   ]
  },
  {
   "cell_type": "code",
   "execution_count": 12,
   "id": "5f4b62cb",
   "metadata": {},
   "outputs": [],
   "source": [
    " def tax_calculator():\n",
    "    # ask user to enter cost of item\n",
    "    state_tax = -1\n",
    "    pre_tax_price = -1\n",
    "    while True:\n",
    "        \n",
    "        #takes in price (must be number)\n",
    "        try:\n",
    "            pre_tax_price = float(input('What is the price of the item pre tax? '))\n",
    "            \n",
    "        #if user doesn't put in number than this happens\n",
    "        except:\n",
    "            print('Please enter a number!')\n",
    "        \n",
    "        #we break out of while loop if we get a positive number\n",
    "        if pre_tax_price>0:\n",
    "            break\n",
    "            \n",
    "        #if we get a negative, we keep looping\n",
    "        else:\n",
    "            print('Please enter a positive number')\n",
    "        \n",
    "\n",
    "    #ask user to enter cost of tax\n",
    "    while True:\n",
    "        \n",
    "        try:\n",
    "            state_tax = float(input(\"What is your states sales tax? \"))\n",
    "            \n",
    "        except:\n",
    "            print('Please enter a number!')\n",
    "        \n",
    "        #we break out of while loop if we get a positive number\n",
    "        if state_tax>0:\n",
    "            break\n",
    "            \n",
    "        #if we get a negative, we keep looping\n",
    "        else:\n",
    "            print('Please enter a positive number')\n",
    "\n",
    "    #validate\n",
    "    \n",
    "    tax_multiplier = 1+state_tax\n",
    "\n",
    "    post_tax_price = pre_tax_price*tax_multiplier\n",
    "    \n",
    "    return round(post_tax_price, 2)\n"
   ]
  },
  {
   "cell_type": "code",
   "execution_count": 13,
   "id": "f6b8220b",
   "metadata": {},
   "outputs": [
    {
     "name": "stdout",
     "output_type": "stream",
     "text": [
      "What is the price of the item pre tax? 1000\n",
      "What is your states sales tax? asdf\n",
      "Please enter a number!\n",
      "Please enter a positive number\n",
      "What is your states sales tax? 4\n"
     ]
    },
    {
     "data": {
      "text/plain": [
       "5000.0"
      ]
     },
     "execution_count": 13,
     "metadata": {},
     "output_type": "execute_result"
    }
   ],
   "source": [
    "tax_calculator()"
   ]
  },
  {
   "cell_type": "code",
   "execution_count": null,
   "id": "5593223e",
   "metadata": {},
   "outputs": [],
   "source": []
  }
 ],
 "metadata": {
  "kernelspec": {
   "display_name": "Python 3 (ipykernel)",
   "language": "python",
   "name": "python3"
  },
  "language_info": {
   "codemirror_mode": {
    "name": "ipython",
    "version": 3
   },
   "file_extension": ".py",
   "mimetype": "text/x-python",
   "name": "python",
   "nbconvert_exporter": "python",
   "pygments_lexer": "ipython3",
   "version": "3.9.12"
  }
 },
 "nbformat": 4,
 "nbformat_minor": 5
}
